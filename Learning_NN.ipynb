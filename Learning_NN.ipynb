{
  "cells": [
    {
      "cell_type": "markdown",
      "metadata": {
        "id": "view-in-github",
        "colab_type": "text"
      },
      "source": [
        "<a href=\"https://colab.research.google.com/github/Gricay-vasily/project_9_DCGAN/blob/main/Learning_NN.ipynb\" target=\"_parent\"><img src=\"https://colab.research.google.com/assets/colab-badge.svg\" alt=\"Open In Colab\"/></a>"
      ]
    },
    {
      "cell_type": "markdown",
      "metadata": {
        "id": "0HAnq6_2XEgT"
      },
      "source": [
        "# Навчання Deep Convolutional Generative Adversarial Network (DCGAN) на завантажених даних Cifar"
      ]
    },
    {
      "cell_type": "markdown",
      "metadata": {
        "id": "iRJnfY5sXEgT"
      },
      "source": [
        "## Завантаження і попередня підготовка Дата-сетів"
      ]
    },
    {
      "cell_type": "code",
      "execution_count": null,
      "metadata": {
        "id": "ilyBdrueXEgU"
      },
      "outputs": [],
      "source": [
        "import numpy as np\n",
        "import matplotlib.pyplot as plt\n",
        "import random"
      ]
    },
    {
      "cell_type": "markdown",
      "metadata": {
        "id": "U8u2Eh9BXEgW"
      },
      "source": [
        "### Зчитування мета-даних та суперкласів"
      ]
    },
    {
      "cell_type": "markdown",
      "source": [
        "Посилання на дані"
      ],
      "metadata": {
        "id": "lvSte4oDY5F7"
      }
    },
    {
      "cell_type": "code",
      "source": [
        "URL_DIR = \"https://www.cs.toronto.edu/~kriz/\"\n",
        "# FILE_NAME_CIFAR_10 = \"cifar-10-python.tar.gz\"\n",
        "FILE_NAME_CIFAR_100 = \"cifar-100-python.tar.gz\""
      ],
      "metadata": {
        "id": "Pc2nNalgYnNj"
      },
      "execution_count": null,
      "outputs": []
    },
    {
      "cell_type": "markdown",
      "source": [
        "Завантажимо дані"
      ],
      "metadata": {
        "id": "83rOcvyHZkSt"
      }
    },
    {
      "cell_type": "code",
      "source": [
        "def load_and_unzip_cifar(url:str, file_name:str):\n",
        "  '''Завантаження і розпакування файлу-архіву, якщо ще цього не зроблено'''\n",
        "  # Завантаження даних\n",
        "  from pathlib import Path\n",
        "  full_url_to_load = url + file_name\n",
        "  print(full_url_to_load)\n",
        "  if Path(file_name).exists() and Path(file_name).is_file():\n",
        "    print(f\"Файл {file_name} вже є. Немає потреби його завантажувати!\")\n",
        "  else:\n",
        "    print(f\"Заватажуємо файл {file_name} \")\n",
        "    !wget $full_url_to_load\n",
        "  # Розпакування даних\n",
        "  # Створення робочої папки через stem i split - відсікання суфіксів\n",
        "  work_dir = Path(str((Path() / Path(file_name).stem)).split(\".\")[0])\n",
        "  # print(work_dir)\n",
        "  if work_dir.exists() and work_dir.is_dir():\n",
        "    print(f\"Директорія {work_dir} вже існує, перезаписуємо файли\")\n",
        "    # Перезаписуємо, бо є файл *txt, який не дає видалити папку\n",
        "    !tar -xzvf $file_name\n",
        "  else:\n",
        "    print(f\"Розпакуємо файл {file_name}\")\n",
        "    !tar -xzvf $file_name\n",
        "\n",
        "load_and_unzip_cifar(URL_DIR, FILE_NAME_CIFAR_100)"
      ],
      "metadata": {
        "id": "CYsnkkzoZj5x"
      },
      "execution_count": null,
      "outputs": []
    },
    {
      "cell_type": "code",
      "source": [
        "def unpickle(file):\n",
        "  '''Десеріалізація даних з pickle-файлу'''\n",
        "  import pickle\n",
        "  with open(file, 'rb') as fo:\n",
        "      dict = pickle.load(fo, encoding='bytes')\n",
        "  return dict"
      ],
      "metadata": {
        "id": "OfYbv3eOcfbZ"
      },
      "execution_count": null,
      "outputs": []
    },
    {
      "cell_type": "code",
      "execution_count": null,
      "metadata": {
        "id": "FAIrdaN0XEgW"
      },
      "outputs": [],
      "source": [
        "metadata_path = './cifar-100-python/meta' # шлях до даних\n",
        "metadata = unpickle(metadata_path)\n",
        "superclass_dict = dict(list(enumerate(metadata[b'coarse_label_names'])))"
      ]
    },
    {
      "cell_type": "markdown",
      "metadata": {
        "id": "b-dvkj6DXEgW"
      },
      "source": [
        "### Завантаження тренувальної та тестуувальної вибірок (використовуючи суперкласи):"
      ]
    },
    {
      "cell_type": "code",
      "execution_count": null,
      "metadata": {
        "id": "yZzoTjKmXEgX"
      },
      "outputs": [],
      "source": [
        "data_pre_path = './cifar-100-python/' # шлях до даних\n",
        "# шляхи до файлів\n",
        "data_train_path = data_pre_path + 'train'\n",
        "data_test_path = data_pre_path + 'test'\n",
        "# Зчитуємо словники\n",
        "data_train_dict = unpickle(data_train_path)\n",
        "data_test_dict = unpickle(data_test_path)\n",
        "# Отримуємо доні (вибираємо coarse_labels щоб отримати всі 100 класів)\n",
        "data_train = data_train_dict[b'data']\n",
        "label_train = np.array(data_train_dict[b'coarse_labels'])\n",
        "data_test = data_test_dict[b'data']\n",
        "label_test = np.array(data_test_dict[b'coarse_labels'])"
      ]
    },
    {
      "cell_type": "markdown",
      "metadata": {
        "id": "qEejGejaXEgX"
      },
      "source": [
        "Поверхнево дослідимо дані"
      ]
    },
    {
      "cell_type": "code",
      "execution_count": null,
      "metadata": {
        "id": "yM-kjaIEXEgY"
      },
      "outputs": [],
      "source": [
        "type(data_train.shape), type(data_test.shape)"
      ]
    },
    {
      "cell_type": "code",
      "execution_count": null,
      "metadata": {
        "id": "5cZoWLveXEgZ"
      },
      "outputs": [],
      "source": [
        "data_train.shape, data_test.shape"
      ]
    },
    {
      "cell_type": "code",
      "execution_count": null,
      "metadata": {
        "id": "9Q4hdxPtXEgZ"
      },
      "outputs": [],
      "source": [
        "np.info(data_train)"
      ]
    },
    {
      "cell_type": "code",
      "execution_count": null,
      "metadata": {
        "id": "qfZN0XlfXEga"
      },
      "outputs": [],
      "source": [
        "data_train.reshape(len(data_train), 3, 32, 32).shape, data_test.reshape(len(data_test), 3, 32, 32).shape"
      ]
    },
    {
      "cell_type": "markdown",
      "metadata": {
        "id": "_FyEnk0rXEga"
      },
      "source": [
        "### Зміна розмірності зображень - виконувати лише раз у колабі!!!"
      ]
    },
    {
      "cell_type": "code",
      "execution_count": null,
      "metadata": {
        "id": "1V5Pd00UXEgb"
      },
      "outputs": [],
      "source": [
        "# Транспонується саме (0,2,3,1) - щоб отримати:\n",
        "# 0 - Позицію картинки\n",
        "# 2 - Значення висоти в пікселях\n",
        "# 3 - Значення ширини в пікселях\n",
        "# 1 - значення кольорів у RGB\n",
        "# Якщо набрати (0,3,2,1) - картинка перевертається на 90град - висота і ширина міняються місцями\n",
        "\n",
        "data_train = data_train.reshape(len(data_train), 3, 32, 32).transpose(0,2,3,1)\n",
        "data_test = data_test.reshape(len(data_test), 3, 32, 32).transpose(0,2,3,1)"
      ]
    },
    {
      "cell_type": "code",
      "execution_count": null,
      "metadata": {
        "id": "5d883O9sXEgb"
      },
      "outputs": [],
      "source": [
        "np.info(data_train)"
      ]
    },
    {
      "cell_type": "code",
      "execution_count": null,
      "metadata": {
        "id": "d_UW15r2XEgc"
      },
      "outputs": [],
      "source": [
        "_ = random.randint(0,len(data_train))\n",
        "print(f\"For picture #{_} - {label_train[_]}({superclass_dict[label_train[_]]}):\")\n",
        "fig = plt.figure(figsize=(1,1))\n",
        "fig.add_subplot(1,1,1)\n",
        "plt.imshow(data_train[_])\n",
        "plt.show()"
      ]
    },
    {
      "cell_type": "markdown",
      "metadata": {
        "id": "TYDz98DSXEgc"
      },
      "source": [
        "Трохи більше картинок з тренувальної та тестувальної вибірок..."
      ]
    },
    {
      "cell_type": "code",
      "execution_count": null,
      "metadata": {
        "id": "391BTDRWXEgd"
      },
      "outputs": [],
      "source": [
        "def show_pictures_n_m(data,n,m:int):\n",
        "    fig = plt.figure(figsize=(max(n,m),max(n,m)))\n",
        "    for _ in range (n*m):\n",
        "        fig.add_subplot(n,m,_+1)\n",
        "        plt.imshow(data[_])\n",
        "    plt.show()\n",
        "\n",
        "show_pictures_n_m(data_train,5,5)\n",
        "show_pictures_n_m(data_test,3,3)"
      ]
    },
    {
      "cell_type": "markdown",
      "metadata": {
        "id": "ymUlMd5jXEgd"
      },
      "source": [
        "## Подальша підготовка даних для тренувань мережі"
      ]
    },
    {
      "cell_type": "code",
      "execution_count": null,
      "metadata": {
        "id": "FkHgcz51XEgd"
      },
      "outputs": [],
      "source": [
        "# Також виконується приведення даних до типу float32\n",
        "# та нормалізація даних до діапазону наприклад [0, 1]\n",
        "# data_train = data_train.astype(\"float32\")\n",
        "# data_test = data_test.astype(\"float32\")\n",
        "# data_train = (data_train - 255)/ 255\n",
        "# data_test = (data_test - 255)/ 255\n",
        "\n",
        "# np.info(data_train)"
      ]
    },
    {
      "cell_type": "code",
      "execution_count": null,
      "metadata": {
        "id": "K0Za61xnXEgd"
      },
      "outputs": [],
      "source": [
        "import tensorflow as tf\n",
        "tf.__version__"
      ]
    }
  ],
  "metadata": {
    "kernelspec": {
      "display_name": "Python 3",
      "language": "python",
      "name": "python3"
    },
    "language_info": {
      "codemirror_mode": {
        "name": "ipython",
        "version": 3
      },
      "file_extension": ".py",
      "mimetype": "text/x-python",
      "name": "python",
      "nbconvert_exporter": "python",
      "pygments_lexer": "ipython3",
      "version": "3.8.10"
    },
    "colab": {
      "provenance": [],
      "include_colab_link": true
    }
  },
  "nbformat": 4,
  "nbformat_minor": 0
}