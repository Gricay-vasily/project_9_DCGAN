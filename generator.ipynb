{
  "nbformat": 4,
  "nbformat_minor": 0,
  "metadata": {
    "colab": {
      "provenance": [],
      "authorship_tag": "ABX9TyMqCCXmrcYCrcqQz7ekxKQp",
      "include_colab_link": true
    },
    "kernelspec": {
      "name": "python3",
      "display_name": "Python 3"
    },
    "language_info": {
      "name": "python"
    }
  },
  "cells": [
    {
      "cell_type": "markdown",
      "metadata": {
        "id": "view-in-github",
        "colab_type": "text"
      },
      "source": [
        "<a href=\"https://colab.research.google.com/github/Gricay-vasily/project_9_DCGAN/blob/main/generator.ipynb\" target=\"_parent\"><img src=\"https://colab.research.google.com/assets/colab-badge.svg\" alt=\"Open In Colab\"/></a>"
      ]
    },
    {
      "cell_type": "code",
      "execution_count": 4,
      "metadata": {
        "id": "-lnIT8VZrh3u",
        "colab": {
          "base_uri": "https://localhost:8080/",
          "height": 441
        },
        "outputId": "543a6f99-5e81-44a8-ec90-ef749e32555c"
      },
      "outputs": [
        {
          "output_type": "stream",
          "name": "stdout",
          "text": [
            "Створено Генератор\n",
            "1/1 [==============================] - 1s 539ms/step\n"
          ]
        },
        {
          "output_type": "display_data",
          "data": {
            "text/plain": [
              "<Figure size 640x480 with 1 Axes>"
            ],
            "image/png": "[encoded data removed]"
          },
          "metadata": {}
        }
      ],
      "source": [
        "import tensorflow as tf\n",
        "from tensorflow.keras import layers\n",
        "import numpy as np\n",
        "import matplotlib.pyplot as plt\n",
        "from PIL import Image\n",
        "\n",
        "def build_generator(nodes=4, input_dim=100, alpha=0.2):\n",
        "    \"\"\"Створення генератора\"\"\"\n",
        "    model = tf.keras.Sequential()\n",
        "\n",
        "    # Основа для зображення 4 * 4 * 256\n",
        "    n_f_nodes = 256 * nodes * nodes\n",
        "    model.add(layers.Dense(n_f_nodes, input_dim=input_dim))\n",
        "    model.add(layers.BatchNormalization())\n",
        "    model.add(layers.ReLU())\n",
        "    model.add(layers.Reshape((nodes, nodes, 256)))\n",
        "\n",
        "    # Підвищення дискретизації до 8x8\n",
        "    model.add(layers.Conv2DTranspose(128, (nodes, nodes), strides=(2, 2), padding='same'))\n",
        "    model.add(layers.BatchNormalization())\n",
        "    model.add(layers.ReLU())\n",
        "\n",
        "    # Підвищення дискретизації до 16x16\n",
        "    model.add(layers.Conv2DTranspose(128, (nodes, nodes), strides=(2, 2), padding='same'))\n",
        "    model.add(layers.BatchNormalization())\n",
        "    model.add(layers.ReLU())\n",
        "\n",
        "    # Підвищення дискретизації до 32x32\n",
        "    model.add(layers.Conv2DTranspose(128, (nodes, nodes), strides=(2, 2), padding='same'))\n",
        "    model.add(layers.BatchNormalization())\n",
        "    model.add(layers.LeakyReLU(alpha))\n",
        "\n",
        "    # Вихідний шар\n",
        "    model.add(layers.Conv2D(3, (3, 3), activation='tanh', padding='same'))\n",
        "\n",
        "    print(\"Створено Генератор\")\n",
        "    return model\n",
        "\n",
        "def preprocess_image(image_path, target_size=(32, 32)):\n",
        "    \"\"\"Завантаження та передобробка зображення\"\"\"\n",
        "    image = Image.open('cat2.jpg')\n",
        "    image = image.resize(target_size)\n",
        "    image_array = np.array(image) / 127.5 - 1  # нормалізація до [-1, 1]\n",
        "    image_array = np.expand_dims(image_array, axis=0)  # додавання batch dimension\n",
        "    return image_array\n",
        "\n",
        "def generate_image(generator, sample_image):\n",
        "    \"\"\"Генерація зображення на основі зразка\"\"\"\n",
        "    # Підготовка латентного простору (шуму)\n",
        "    noise = np.random.normal(0, 1, (1, 100))  # можна покращити шляхом використання особливостей sample_image\n",
        "\n",
        "    # Генерація зображення\n",
        "    generated_image = generator.predict(noise)\n",
        "    generated_image = (generated_image * 127.5 + 127.5).astype(np.uint8)  # зворотна нормалізація до [0, 255]\n",
        "    return generated_image\n",
        "\n",
        "# Створення генератора\n",
        "generator = build_generator()\n",
        "\n",
        "# Завантаження та передобробка зображення\n",
        "sample_image_path = 'cat2.jpg'  # замініть на шлях до вашого зразка\n",
        "sample_image = preprocess_image(sample_image_path)\n",
        "\n",
        "# Генерація зображення\n",
        "generated_image = generate_image(generator, sample_image)\n",
        "\n",
        "# Візуалізація згенерованого зображення\n",
        "plt.imshow(generated_image[0])\n",
        "plt.axis('off')\n",
        "plt.show()\n"
      ]
    }
  ]
}